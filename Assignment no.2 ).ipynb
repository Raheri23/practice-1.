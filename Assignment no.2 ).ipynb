{
 "cells": [
  {
   "cell_type": "code",
   "execution_count": null,
   "id": "48f30d94-5639-408e-bf04-ab7b284e9940",
   "metadata": {},
   "outputs": [],
   "source": [
    "#this is assignment no.2 given on 30th january by pw skills.\n"
   ]
  },
  {
   "cell_type": "code",
   "execution_count": null,
   "id": "c5c27d20-7958-4d99-967d-46709de3ff83",
   "metadata": {},
   "outputs": [],
   "source": [
    "# Questuion no. 1 write a program to aCCEPT percentage from the user and display the grade according to following criteria.\n",
    "  MARKS                            grade\n",
    "   >90                              A\n",
    "   >80 And <=90                     B\n",
    "   >=60 and <=80                    C\n",
    "   below 60                         D\n"
   ]
  },
  {
   "cell_type": "code",
   "execution_count": 1,
   "id": "16376c26-ef29-4572-987a-aa25dc6e090c",
   "metadata": {},
   "outputs": [
    {
     "name": "stdin",
     "output_type": "stream",
     "text": [
      "welcome user enter your percentage(%) 85\n"
     ]
    },
    {
     "name": "stdout",
     "output_type": "stream",
     "text": [
      "your grade is B\n"
     ]
    }
   ],
   "source": [
    "percentage=float(input(\"welcome user enter your percentage(%)\"))\n",
    "if percentage>90:\n",
    "    print(\"your grade is A\")\n",
    "elif percentage>80 and percentage<=90:\n",
    "    print(\"your grade is B\")\n",
    "elif percentage>=60 and percentage<=80:\n",
    "    print(\"your grade is C\")\n",
    "else:\n",
    "     print(\"your grade is D\")\n",
    "        "
   ]
  },
  {
   "cell_type": "code",
   "execution_count": null,
   "id": "1544165b-e112-4928-b7d1-ef1a68aa6a3e",
   "metadata": {},
   "outputs": [],
   "source": [
    "#Question 2. write a program to accept the cost price of a bike and displays the road tax to be paid acccording to the ##following criteria.\n",
    "Tax                     cost price (rs)\n",
    "15%                          >100000\n",
    "10%                          >50000 and <100000\n",
    "5%                           <=50000\n"
   ]
  },
  {
   "cell_type": "code",
   "execution_count": 3,
   "id": "d6feed43-7068-4c96-8f02-7efe9736208a",
   "metadata": {},
   "outputs": [
    {
     "name": "stdin",
     "output_type": "stream",
     "text": [
      "welcome to RTO,enter the Bike_price 50000\n"
     ]
    },
    {
     "name": "stdout",
     "output_type": "stream",
     "text": [
      "The tax to be paid is 2500.0\n"
     ]
    }
   ],
   "source": [
    "Bike_price=int(input(\"welcome to RTO,enter the Bike_price\"))\n",
    "if Bike_price>100000:\n",
    "    print(f\"The tax to be paid is {Bike_price*0.15}\")\n",
    "elif Bike_price>50000 and Bike_price<=100000:\n",
    "    print(f\"The tax to be paid is {Bike_price*0.10}\")\n",
    "else:\n",
    "    print(f\"The tax to be paid is {Bike_price*0.05}\")\n"
   ]
  },
  {
   "cell_type": "code",
   "execution_count": null,
   "id": "488a0203-eb10-417c-94aa-743e4a430150",
   "metadata": {},
   "outputs": [],
   "source": [
    "#Question 3 Accept the city from the user and displays monuments of that city.\n",
    "city                          monument\n",
    "delhi                          red fort\n",
    "agra                           taj mahal\n",
    "jaipur                         jal mahal"
   ]
  },
  {
   "cell_type": "code",
   "execution_count": 4,
   "id": "56bb198c-0241-4984-baeb-0c80a927a1f1",
   "metadata": {},
   "outputs": [
    {
     "name": "stdin",
     "output_type": "stream",
     "text": [
      "Enter city name:  Delhi\n"
     ]
    },
    {
     "name": "stdout",
     "output_type": "stream",
     "text": [
      "the monument of delhi is Red fort\n"
     ]
    }
   ],
   "source": [
    "city_name=input(\"Enter city name: \")\n",
    "if city_name==\"Delhi\":\n",
    "    print(\"the monument of delhi is Red fort\")\n",
    "elif city_name==\"Agra\":\n",
    "    print(\"the monument of agra is Taj Mahal\")\n",
    "elif city_name==\"Jaipur\":\n",
    "    print(\"the monument of Jaipur is Jal Mahal\")\n",
    "else:\n",
    "    print(\"Enter either Delhi or Agra or Jaipur.\")\n",
    "    \n",
    "    "
   ]
  },
  {
   "cell_type": "code",
   "execution_count": null,
   "id": "dae54a3d-0e2d-4ae0-bca5-7debc91c1937",
   "metadata": {},
   "outputs": [],
   "source": [
    "# Question no 4 check how  many times a given number can be dividd by 3 before it is less than equal to 10."
   ]
  },
  {
   "cell_type": "code",
   "execution_count": 5,
   "id": "a28285fb-8e67-4e47-9a2b-2ea930b804dd",
   "metadata": {},
   "outputs": [
    {
     "name": "stdin",
     "output_type": "stream",
     "text": [
      "Enter a number:  200\n"
     ]
    },
    {
     "name": "stdout",
     "output_type": "stream",
     "text": [
      " the number can be divided by by 3, 3 times before it is less than or equal to 10.\n"
     ]
    }
   ],
   "source": [
    "def count_divisions_by_3(number):\n",
    "    count=0\n",
    "    while number>10:\n",
    "        number=number/3\n",
    "        count+=1\n",
    "    return count\n",
    "number=int(input(\"Enter a number: \"))\n",
    "result=count_divisions_by_3(number)\n",
    "print(\" the number can be divided by by 3,\", result, \"times before it is less than or equal to 10.\")"
   ]
  },
  {
   "cell_type": "code",
   "execution_count": null,
   "id": "5c6009cc-c521-4543-9914-beb705da80aa",
   "metadata": {},
   "outputs": [],
   "source": [
    "# Question no. 5 why and when to use while loop in python give a detailed description with example? "
   ]
  },
  {
   "cell_type": "markdown",
   "id": "819c0b08-fa36-413b-a3a2-36fb747e6adf",
   "metadata": {},
   "source": [
    "A while loop in python used to repetedly execute a block of code as long as a certain condition is meet. The basic structure of while loop is  "
   ]
  },
  {
   "cell_type": "code",
   "execution_count": null,
   "id": "8957b442-fd12-4832-b3bd-38158b8bde18",
   "metadata": {},
   "outputs": [],
   "source": [
    "      while condition\n",
    "           #code to be executed\n",
    "        "
   ]
  },
  {
   "cell_type": "markdown",
   "id": "f9779d4d-d82c-43d0-a047-c30d96af1de5",
   "metadata": {},
   "source": [
    "The condition in the while loop is a Boolean expression that is evaluated before each iteration. If the condition is true\n",
    "the code block inside the loop will be executed. If the condition is false the loop will terminate and the program will \n",
    "continue with the code after loop.while loopos are useful when you want to repeat a set of statements an unknown number \n",
    "of times. For example, you may want to keep prompting the user for input until they provide a valid responce.\n",
    "eg."
   ]
  },
  {
   "cell_type": "code",
   "execution_count": 6,
   "id": "3c5d357a-323c-4c30-8156-2c082682732b",
   "metadata": {},
   "outputs": [
    {
     "name": "stdin",
     "output_type": "stream",
     "text": [
      "Enter a positive integer:  50\n"
     ]
    },
    {
     "name": "stdout",
     "output_type": "stream",
     "text": [
      "The positive integer you enterd is 50\n"
     ]
    }
   ],
   "source": [
    "number =int(input(\"Enter a positive integer: \"))\n",
    "while number <=0:\n",
    "    print(\"invalid input. please enter a positive integer.\")\n",
    "    number=int(input(\"Enter a positive integer: \"))\n",
    "\n",
    "print(\"The positive integer you enterd is\", number)    "
   ]
  },
  {
   "cell_type": "code",
   "execution_count": null,
   "id": "205ea336-61c7-477e-ac6a-1833bc6a2e1e",
   "metadata": {},
   "outputs": [],
   "source": [
    "#In above example the while loop is used to keep prompting the user for a positive integer until a valid input is provided\n",
    "the 'condition' in the loop checks whether the input number is less than or equal to 0. If the condition is true a message\n",
    "is printed to the user and the program prompts the user for another input.If the condition is false the loop terminates and\n",
    "the program prints the positive integer that was entered by the user. "
   ]
  },
  {
   "cell_type": "code",
   "execution_count": null,
   "id": "662f99eb-07f9-4b39-9488-a0e0f7432f9d",
   "metadata": {},
   "outputs": [],
   "source": [
    "# Question number 6 Use nested while loop to print 3 different patterns."
   ]
  },
  {
   "cell_type": "markdown",
   "id": "976d582e-8c9e-47e8-983f-aef4607a3d9d",
   "metadata": {},
   "source": [
    "Different patterns that can be printed using nested while loop\n",
    "1. Triangle pattern"
   ]
  },
  {
   "cell_type": "code",
   "execution_count": null,
   "id": "435f3664-b72d-421b-8c26-f26761aef9e3",
   "metadata": {},
   "outputs": [],
   "source": [
    "rows=int(input(\"enter the number of rows: \"))\n",
    "i=1\n",
    "while i<=rows:\n",
    "    j=1\n",
    "    while j<=i:\n",
    "        print(j,end=\" \")\n",
    "        j=j+1\n",
    "        print()\n",
    "        i=i+1"
   ]
  },
  {
   "cell_type": "markdown",
   "id": "8c2cfb77-e367-4fb0-979d-2a871d75e759",
   "metadata": {},
   "source": [
    "2. Reversed triangle pattern"
   ]
  },
  {
   "cell_type": "code",
   "execution_count": null,
   "id": "c5553df9-f73c-4f53-b264-7e7395c6629c",
   "metadata": {},
   "outputs": [],
   "source": [
    "rows=int(input(\"enter the number of rows:  \"))\n",
    "i=rows\n",
    "while i>=1:\n",
    "    j=1\n",
    "    while j<=i:\n",
    "        print(\"*\",end=\" \")\n",
    "        j=j+1\n",
    "        print()\n",
    "        i=i-1"
   ]
  },
  {
   "cell_type": "markdown",
   "id": "b7e79bcf-5736-43bc-8880-07486f7d5918",
   "metadata": {},
   "source": [
    "3. Diamond pattern"
   ]
  },
  {
   "cell_type": "code",
   "execution_count": null,
   "id": "a34bff2b-25f0-4982-9be9-0e38253f3d8a",
   "metadata": {},
   "outputs": [],
   "source": [
    "rows=int(input(\"enter the number of rows:  \"))\n",
    "i=1\n",
    "while i<=rows:\n",
    "    spaces=1\n",
    "    while spaces<=rows-1:\n",
    "        print(\" \",end=\"\")\n",
    "        spaces=spaces+1\n",
    "        star=1\n",
    "    while stars <= (2*i - 1):\n",
    "        print(\"*\", end=\"\")\n",
    "        stars=stars+1\n",
    "        print()\n",
    "        i=i+1\n",
    "    i=rows-1\n",
    "    while i>=1:\n",
    "        spaces=1\n",
    "        while spaces <= rows-i:\n",
    "            print(\" \", end=\"\")\n",
    "            spaces=spaces+1\n",
    "        stars=1\n",
    "        while stars < (2*i - 1):\n",
    "            print(\"*\",end=\"\")\n",
    "            stars=stars+1\n",
    "            print()\n",
    "            i=i-1"
   ]
  },
  {
   "cell_type": "markdown",
   "id": "d5a6280b-351a-401c-9c03-16fcfcfc503c",
   "metadata": {},
   "source": [
    "# Question number 7 Reverse a while loop to display number from 10 to 1."
   ]
  },
  {
   "cell_type": "code",
   "execution_count": null,
   "id": "b653f7bb-55a4-4b3f-9b30-6cc64292f399",
   "metadata": {},
   "outputs": [],
   "source": [
    "number=10\n",
    "while number >= 1:\n",
    "    print(number)\n",
    "    number=number-1"
   ]
  },
  {
   "cell_type": "code",
   "execution_count": null,
   "id": "76f374cc-ee17-4092-b2db-f33ccf2d80b0",
   "metadata": {},
   "outputs": [],
   "source": []
  },
  {
   "cell_type": "code",
   "execution_count": null,
   "id": "f6a270eb-0850-460c-bc32-469b77d214b2",
   "metadata": {},
   "outputs": [],
   "source": []
  }
 ],
 "metadata": {
  "kernelspec": {
   "display_name": "Python 3 (ipykernel)",
   "language": "python",
   "name": "python3"
  },
  "language_info": {
   "codemirror_mode": {
    "name": "ipython",
    "version": 3
   },
   "file_extension": ".py",
   "mimetype": "text/x-python",
   "name": "python",
   "nbconvert_exporter": "python",
   "pygments_lexer": "ipython3",
   "version": "3.10.8"
  }
 },
 "nbformat": 4,
 "nbformat_minor": 5
}
